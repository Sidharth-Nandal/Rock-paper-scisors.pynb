{
 "cells": [
  {
   "cell_type": "code",
   "execution_count": 11,
   "id": "ec8323c3",
   "metadata": {},
   "outputs": [
    {
     "name": "stdout",
     "output_type": "stream",
     "text": [
      "Type Rock/Paper/Scissors or Q to quit: rock\n",
      "Computer picked rock.\n",
      "You lost\n",
      "Type Rock/Paper/Scissors or Q to quit: paper\n",
      "Computer picked scissors.\n",
      "You lost\n",
      "Type Rock/Paper/Scissors or Q to quit: paper\n",
      "Computer picked paper.\n",
      "You lost\n",
      "Type Rock/Paper/Scissors or Q to quit: paper\n",
      "Computer picked paper.\n",
      "You lost\n",
      "Type Rock/Paper/Scissors or Q to quit: rock\n",
      "Computer picked paper.\n",
      "You lost\n",
      "Type Rock/Paper/Scissors or Q to quit: q\n",
      "You won 0 times\n",
      "The computer won 5 times\n",
      "Good bye\n"
     ]
    }
   ],
   "source": [
    "import random\n",
    "\n",
    "user_wins = 0\n",
    "computer_wins = 0\n",
    "options = ['rock','paper','scissors']\n",
    "\n",
    "\n",
    "while True:\n",
    "    user_input = input('Type Rock/Paper/Scissors or Q to quit: ').lower()\n",
    "    if user_input == 'q':\n",
    "        break\n",
    "        \n",
    "    if user_input not in options:\n",
    "        continue\n",
    "        \n",
    "    random_number = random.randint(0,3)\n",
    "    # rock: 0, paper:1, scissors:2\n",
    "    computer_pick = options[random_number]\n",
    "    print('Computer picked', computer_pick + '.')\n",
    "    \n",
    "    if user_input == 'rock' and computer_pick == 'scissors':\n",
    "        print('You won!')\n",
    "        user_wins += 1\n",
    "        \n",
    "    elif user_input == 'paper' and computer_pick == 'rock':\n",
    "        print('You won!')\n",
    "        user_wins += 1\n",
    "        \n",
    "    elif user_input == 'scissors' and computer_pick == 'paper':\n",
    "        print('You won!')\n",
    "        user_wins += 1\n",
    "        \n",
    "    else: \n",
    "        print('You lost')\n",
    "        computer_wins += 1\n",
    "print('You won', user_wins, 'times')\n",
    "print('The computer won', computer_wins, 'times')\n",
    "print('Good bye')"
   ]
  },
  {
   "cell_type": "code",
   "execution_count": null,
   "id": "c450b294",
   "metadata": {},
   "outputs": [],
   "source": []
  }
 ],
 "metadata": {
  "kernelspec": {
   "display_name": "Python 3 (ipykernel)",
   "language": "python",
   "name": "python3"
  },
  "language_info": {
   "codemirror_mode": {
    "name": "ipython",
    "version": 3
   },
   "file_extension": ".py",
   "mimetype": "text/x-python",
   "name": "python",
   "nbconvert_exporter": "python",
   "pygments_lexer": "ipython3",
   "version": "3.11.3"
  }
 },
 "nbformat": 4,
 "nbformat_minor": 5
}
